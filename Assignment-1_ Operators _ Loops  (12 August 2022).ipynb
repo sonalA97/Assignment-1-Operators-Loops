{
 "cells": [
  {
   "cell_type": "code",
   "execution_count": 1,
   "id": "b343de30",
   "metadata": {},
   "outputs": [
    {
     "name": "stdout",
     "output_type": "stream",
     "text": [
      "1\n",
      "1\n",
      "2\n",
      "3\n",
      "5\n",
      "8\n",
      "13\n",
      "21\n",
      "34\n"
     ]
    }
   ],
   "source": [
    "#Lets Play With Fibonacci\n",
    "\n",
    "\n",
    "#Write a Python program to get the Fibonacci series between 0 to 50.\n",
    "\n",
    "\n",
    "a,b=0,1\n",
    "\n",
    "while b<50:\n",
    "    print(b)\n",
    "    a,b = b,a+b"
   ]
  },
  {
   "cell_type": "code",
   "execution_count": 6,
   "id": "8e674742",
   "metadata": {},
   "outputs": [
    {
     "name": "stdout",
     "output_type": "stream",
     "text": [
      "Input The Word You Want To Reverse : sonal\n",
      "lanos"
     ]
    }
   ],
   "source": [
    "#Send the Words To Mirror Dimension\n",
    "\n",
    "\n",
    "\n",
    "#Write a Python program that accepts a word from the user and reverse it.\n",
    "\n",
    "\n",
    "\n",
    "sen = input(\"Input The Word You Want To Reverse : \")\n",
    "\n",
    "for i in range(len(sen) - 1, -1, -1):\n",
    "    print(sen[i], end=\"\")\n"
   ]
  },
  {
   "cell_type": "code",
   "execution_count": 13,
   "id": "80e08755",
   "metadata": {},
   "outputs": [
    {
     "name": "stdout",
     "output_type": "stream",
     "text": [
      "How many numbers you want to enter in series: 5\n",
      "Enter number 3\n",
      "Enter number 5\n",
      "Enter number 4\n",
      "Enter number 6\n",
      "Enter number 7\n",
      "[3, 5, 4, 6, 7]\n",
      "You can go out in :  2\n",
      "You cannot go out in :   3\n"
     ]
    }
   ],
   "source": [
    "#Don't go Outside in Odd day\n",
    "\n",
    "\n",
    "\n",
    "#Write a Python program to count the number of even and odd numbers from a series of numbers.\n",
    "\n",
    "\n",
    "\n",
    "\n",
    "a = []\n",
    "b = int(input(\"How many numbers you want to enter in series: \"))\n",
    "for i in range(b):\n",
    "    number= int(input(\"Enter number \"))\n",
    "    a.append(number)\n",
    "even= 0\n",
    "odd= 0\n",
    "for i in range(b):\n",
    "    if a[i]%2==0:\n",
    "        even= even+1\n",
    "    else:\n",
    "        odd= odd+1\n",
    "print(a)\n",
    "print(\"You can go out in : \",even)\n",
    "print(\"You cannot go out in : \",odd)"
   ]
  },
  {
   "cell_type": "markdown",
   "id": "bbbd4f58",
   "metadata": {},
   "source": []
  }
 ],
 "metadata": {
  "kernelspec": {
   "display_name": "Python 3 (ipykernel)",
   "language": "python",
   "name": "python3"
  },
  "language_info": {
   "codemirror_mode": {
    "name": "ipython",
    "version": 3
   },
   "file_extension": ".py",
   "mimetype": "text/x-python",
   "name": "python",
   "nbconvert_exporter": "python",
   "pygments_lexer": "ipython3",
   "version": "3.10.5"
  }
 },
 "nbformat": 4,
 "nbformat_minor": 5
}
